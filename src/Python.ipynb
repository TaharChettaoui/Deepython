{
 "cells": [
  {
   "cell_type": "markdown",
   "id": "4a31bbb5",
   "metadata": {},
   "source": [
    "### Introduction\n",
    "In this notebook I will save the basic/advanced *python* code that I have encountered during my learning phase. I started with a simple OOP class and the goal is to extend it with a diverse syntax and a set of tricks learned through time. The awaited result is a compact and simple yet rich piece of code.\n"
   ]
  },
  {
   "cell_type": "markdown",
   "id": "infrared-reputation",
   "metadata": {},
   "source": [
    "#### Syntax\n",
    "- __Slots__ : Python uses the dictionaries to manage the instance attributes. It allows you to add more attributes dynamically. but has a certain memory overhead. \"slots\" optimizes the memory if the class has many objects. (around 20% performance improvement). SLOTS DO NOT WORK WITH MULTIPLE INHERITANCE! https://stackoverflow.com/a/1816511\n",
    "- __Descriptors__ : are Python objects that implement a method of the descriptor protocol (get, set, delete, set_name). If your descriptor implements just get(), then it’s a non-data descriptor. If it implements set() or delete(), then it’s said to be a data descriptor.\n",
    "- __Debugging__ : on jupyterlab by clicking on the \"bug icon\". (top right)\n",
    "- __Type_Hinting__ : you're giving a hint about what a variable should be to the IDE and to other developers. If you go against the type hints, python won't stop you!\n",
    "- __Classmethod__ : https://www.programiz.com/python-programming/methods/built-in/classmethod\n",
    "- __Inheritance__ : Multiple-resolution order https://www.datacamp.com/tutorial/super-multiple-inheritance-diamond-problem\n",
    "- __Method Resolution Order (MRO)__ : \n",
    "If two superclasses have the same method name and the derived class calls that method, Python uses the MRO to search for the right method to call The MRO specifies that methods should be inherited from the leftmost superclass first.\n",
    "- __Yield__ : When a function containing yield is called, it returns a generator object. The function is not terminated but paused, and it retains its state. The next time the generator's \"next\" method is called, it resumes execution from where it was paused.,\n",
    "- __GIL__ : A global interpreter lock (GIL) is a mechanism used to synchronize the execution of threads so that only one native thread (per process) can execute at a time. An interpreter that uses GIL always allows exactly one thread to execute at a time, even if run on a multi-core processor. It is needed in CPython because memory management is not thread-safe."
   ]
  },
  {
   "cell_type": "markdown",
   "id": "d85fb55d-45ef-4ae9-87c3-b4622894485d",
   "metadata": {},
   "source": [
    "#### Tools\n",
    "- **Convert jupyter notebook to python script**:  \n",
    "jupyter nbconvert --to script src/notebooks/Python_basics.ipynb --output-dir ./src/\n",
    "\n",
    "- **Generate requirements.txt**:  \n",
    "pip install pipreqs  \r\n",
    "pipreqs /path/to/project\n",
    "\n"
   ]
  },
  {
   "cell_type": "code",
   "execution_count": 1,
   "id": "1314be0b-be43-48af-af82-96dccce8f4f4",
   "metadata": {},
   "outputs": [],
   "source": [
    "from dataclasses import dataclass\n",
    "from typing import Callable\n",
    "import functools\n",
    "import time"
   ]
  },
  {
   "cell_type": "code",
   "execution_count": 2,
   "id": "rapid-wisdom",
   "metadata": {},
   "outputs": [],
   "source": [
    "@dataclass #(slots=True) for python > 3.10 | automate creation of __init__ method\n",
    "class Person:\n",
    "    name: str\n",
    "    surname: str\n",
    "    adress: str\n",
    "\n",
    "\n",
    "class Dog:\n",
    "    def __init__(self, name, owner: Person, breed):\n",
    "        self._name = name # private variables\n",
    "        self.owner = owner\n",
    "        self.__breed = breed # name mangling: \"__breed\" is replaced with \"_Dog__breed\"\n",
    "    \n",
    "    @staticmethod\n",
    "    def bark():\n",
    "        print(\"Wof Wof!\")\n",
    "\n",
    "\n",
    "class Robot:\n",
    "    _robots = []\n",
    "    __slots__ = \"id\", \"_name\", \"owner\",\"year\", \"color\"\n",
    "    \n",
    "    def __init__(self, id, name, owner: Person, year, color=\"Black\"):\n",
    "        try:\n",
    "            assert id >= 0, \"Robot id greater than 0 expected: \" + id\n",
    "            self.id = id\n",
    "            self.owner = owner\n",
    "            self._name = name\n",
    "            self.year = year\n",
    "            self.color = color\n",
    "            Robot._robots.append(self)\n",
    "            \n",
    "        except AssertionError:\n",
    "            print(\"The robot ID must be greater or equal to 0!\")\n",
    "        \n",
    "    def _get_name(self):\n",
    "        return self._name\n",
    "    \n",
    "    def _set_name(self, name):\n",
    "        self._name = name\n",
    "    \n",
    "    @classmethod\n",
    "    def constructed_robots(cls):\n",
    "        return cls._robots\n",
    "    \n",
    "    name = property(_get_name, _set_name)\n",
    "\n",
    "\n",
    "class RobotDog(Robot, Dog):\n",
    "    def __init__(self, id, name, owner: Person, year, color=\"Black\", breed=\"Unknown\"):\n",
    "        super().__init__(id, name, owner, year, color) # Robot.__init__(self, id, name, owner, year, color) \n",
    "        # class mro: [__main__.RobotDog, __main__.Robot, __main__.Dog, object]\n",
    "        # push super to change its mro and look one level above Robot, thus calling super __init__ of dog\n",
    "        super(Robot, self).__init__(name, owner, breed) # Dog.__init__(self, name, owner, breed) \n",
    "\n",
    "    # Change what gets printed with \"print()\" by defining a special instance method called .__str__().\n",
    "    def __str__(self):\n",
    "        return f\"{self._name} is a {type(self).__name__}\"\n",
    "\n",
    "\n",
    "Robot.constructed_robots = classmethod(Robot.constructed_robots)"
   ]
  },
  {
   "cell_type": "markdown",
   "id": "aa9dcf71",
   "metadata": {},
   "source": [
    "#### Callable and functools.partial"
   ]
  },
  {
   "cell_type": "code",
   "execution_count": 3,
   "id": "1ddca299",
   "metadata": {},
   "outputs": [
    {
     "name": "stdout",
     "output_type": "stream",
     "text": [
      "{'_name': 'Iggy', 'owner': Person(name='Thomas', surname='Müller', adress='76131 Karlsruhe'), '_Dog__breed': 'french_bulldog'}\n"
     ]
    }
   ],
   "source": [
    "# The callable() method returns True if the object passed appears callable.\n",
    "def make_dog(c: str) -> Callable[[str], Dog]:\n",
    "    return lambda a,b: Dog(a, b, c)\n",
    "\n",
    "# create persons\n",
    "person_0 = Person(\"Thomas\", \"Müller\", \"76131 Karlsruhe\")\n",
    "\n",
    "# create dogs with callable and functools.partial\n",
    "make_german_shepherd = make_dog(\"german_shepherd\") # approach 1\n",
    "make_french_bulldog = functools.partial(Dog, breed=\"french_bulldog\") # approach 2\n",
    "dog_0 = make_german_shepherd(\"Flash\", person_0)\n",
    "dog_1 = make_french_bulldog(\"Iggy\", person_0)\n",
    "print(dog_1.__dict__)\n",
    "\n",
    "# create robots (add \"_\" for large numbers to increase readability)\n",
    "robot_0 = Robot(20_120_000, \"Spot\", person_0, 1995, \"Green\")\n",
    "robot_1 = Robot(10_100_000, \"Tops\", person_0, 1987, \"Red\")\n",
    "robot_2 = Robot(20_130_000, \"Robocop\", person_0, 1987, \"Grey\")\n",
    "robot_3 = RobotDog(10_250_000, \"Spip\", person_0, 1990, \"Black\", \"French bulldog\" )"
   ]
  },
  {
   "cell_type": "markdown",
   "id": "e0797b98",
   "metadata": {},
   "source": [
    "#### Tuple unpacking manipulation and __slots__"
   ]
  },
  {
   "cell_type": "code",
   "execution_count": 4,
   "id": "a36eeeed",
   "metadata": {},
   "outputs": [
    {
     "name": "stdout",
     "output_type": "stream",
     "text": [
      "Some of Robot 0 properties: ['_name', 'owner', 'year']\n"
     ]
    }
   ],
   "source": [
    "# Using \"*\" and \"_\"\n",
    "_, *desc, color = robot_0.__slots__\n",
    "\n",
    "# \"id\", \"_name\", \"owner\",\"year\", \"color\"\n",
    "print(\"Some of Robot 0 properties: \" + str(desc))"
   ]
  },
  {
   "cell_type": "markdown",
   "id": "6d4ae251",
   "metadata": {},
   "source": [
    "#### Lambda function"
   ]
  },
  {
   "cell_type": "code",
   "execution_count": 5,
   "id": "daee7c10",
   "metadata": {},
   "outputs": [
    {
     "name": "stdout",
     "output_type": "stream",
     "text": [
      "Newest robot is : Spot\n"
     ]
    }
   ],
   "source": [
    "newer_robot = lambda x, y: x if (x.year > y.year) else y\n",
    "\n",
    "print(\"Newest robot is : \" + newer_robot(robot_0, robot_1).name)"
   ]
  },
  {
   "cell_type": "markdown",
   "id": "2e54ecb9",
   "metadata": {},
   "source": [
    "#### Zip(), enumerate() and List comprehension\n",
    "I learned about \"zip\" when I worked with Haskell. I tend to forget about this awesome funtion!"
   ]
  },
  {
   "cell_type": "code",
   "execution_count": 6,
   "id": "0b89da99",
   "metadata": {},
   "outputs": [
    {
     "name": "stdout",
     "output_type": "stream",
     "text": [
      "[(0, 'Spot'), (1, 'Tops'), (2, 'Robocop'), (3, 'Spip')]\n",
      "[(0, 'Spot'), (1, 'Tops'), (2, 'Robocop'), (3, 'Spip')]\n"
     ]
    }
   ],
   "source": [
    "robots = Robot.constructed_robots()\n",
    "num_robots = len(Robot.constructed_robots())\n",
    "\n",
    "# 2 different ways but same result\n",
    "print([(num, robot.name) for num, robot in enumerate(robots)]) \n",
    "print([(num, robot.name) for num, robot in zip(range(0, num_robots, 1), robots)]) # range(start, stop, step)"
   ]
  },
  {
   "cell_type": "markdown",
   "id": "b6935f55",
   "metadata": {},
   "source": [
    "#### Map(), any() and all()"
   ]
  },
  {
   "cell_type": "code",
   "execution_count": 7,
   "id": "981b11a4",
   "metadata": {},
   "outputs": [
    {
     "name": "stdout",
     "output_type": "stream",
     "text": [
      "At least one robot is painted in red: True\n",
      "All robots are painted in red: False\n",
      "Lets paint them all in red!\n",
      "\n",
      "At least one robot is painted in red: True\n",
      "All robots are painted in red: True\n"
     ]
    }
   ],
   "source": [
    "def paint_robot(rbt: Robot, color):\n",
    "    rbt.color = color\n",
    "    return rbt\n",
    "\n",
    "robots = Robot.constructed_robots()\n",
    "is_red_painted = [rbt.color == \"Red\" for rbt in robots]\n",
    "print(\"At least one robot is painted in red: \" + str(any(is_red_painted)))\n",
    "print(\"All robots are painted in red: \" + str(all(is_red_painted)) + \"\\nLets paint them all in red!\\n\")\n",
    "\n",
    "\n",
    "list(map(paint_robot, robots, [\"Red\"]*len(robots)))\n",
    "is_red_painted = [rbt.color == \"Red\" for rbt in robots]\n",
    "print(\"At least one robot is painted in red: \" + str(any(is_red_painted)))\n",
    "print(\"All robots are painted in red: \" + str(all(is_red_painted)))"
   ]
  },
  {
   "cell_type": "markdown",
   "id": "2f5ae692-e78b-4916-9c32-a38861bcb076",
   "metadata": {},
   "source": [
    "#### Multiple inheritance, name mangling, static methods and MRO"
   ]
  },
  {
   "cell_type": "code",
   "execution_count": 8,
   "id": "2a4e7612-f14b-4fce-91cf-ecbdf19cad65",
   "metadata": {},
   "outputs": [
    {
     "name": "stdout",
     "output_type": "stream",
     "text": [
      "True\n",
      "Wof Wof!\n"
     ]
    },
    {
     "data": {
      "text/plain": [
       "[__main__.RobotDog, __main__.Robot, __main__.Dog, object]"
      ]
     },
     "execution_count": 8,
     "metadata": {},
     "output_type": "execute_result"
    }
   ],
   "source": [
    "is_robot = isinstance(robot_3, Robot)\n",
    "print(is_robot)\n",
    "\n",
    "is_robot_dog = isinstance(robot_3, RobotDog) \n",
    "if (is_robot_dog):\n",
    "    robot_3.bark() # RobotDog.bark() also works ==> static method\n",
    "\n",
    "RobotDog.mro()\n",
    "# robot_3.__breed raises an error because of name mangling convention"
   ]
  },
  {
   "cell_type": "markdown",
   "id": "b599ceb4",
   "metadata": {},
   "source": [
    "#### Decorator"
   ]
  },
  {
   "cell_type": "code",
   "execution_count": 9,
   "id": "25b9fb1a",
   "metadata": {},
   "outputs": [
    {
     "name": "stdout",
     "output_type": "stream",
     "text": [
      "car_simulation Took 1.2042655944824219 seconds\n"
     ]
    }
   ],
   "source": [
    "def executionTime(func):\n",
    "    def wrapper():\n",
    "        t_start = time.time()\n",
    "        func()\n",
    "        t_end = time.time() - t_start\n",
    "        print(f\"{func.__name__} Took {t_end} seconds\")\n",
    "        \n",
    "    return wrapper\n",
    "\n",
    "@executionTime\n",
    "def car_simulation():\n",
    "    time.sleep(1.2)\n",
    "\n",
    "# @executionTime is just an easier way of saying executionTime(car_simulation). It’s how you apply a decorator to a function.\n",
    "car_simulation()"
   ]
  },
  {
   "cell_type": "markdown",
   "id": "7d1c786a-5113-46d0-8da3-12a92a764b9e",
   "metadata": {},
   "source": [
    "#### Recursion"
   ]
  },
  {
   "cell_type": "code",
   "execution_count": 10,
   "id": "b070a4f2-a00d-4d0e-afc0-d72f9c528809",
   "metadata": {},
   "outputs": [
    {
     "data": {
      "text/plain": [
       "120"
      ]
     },
     "execution_count": 10,
     "metadata": {},
     "output_type": "execute_result"
    }
   ],
   "source": [
    "def factorial(n):\n",
    "    # base case\n",
    "    if n == 1:\n",
    "        return 1\n",
    "\n",
    "    # recurse\n",
    "    return n * factorial(n-1)\n",
    "\n",
    "factorial(5)"
   ]
  },
  {
   "cell_type": "markdown",
   "id": "9ae06ff9-72d9-4ebb-a9ab-f2c896b9abac",
   "metadata": {},
   "source": [
    "#### Generators and lazy recursion (Haskell inspired)"
   ]
  },
  {
   "cell_type": "code",
   "execution_count": 11,
   "id": "54e1ade6-ba84-4340-93eb-94f329b1485d",
   "metadata": {},
   "outputs": [],
   "source": [
    "# yield produce a sequence of values over multiple calls.\n",
    "def nats(n):\n",
    "    yield n\n",
    "    yield from nats(n+1)\n",
    "\n",
    "generator = nats(2)"
   ]
  },
  {
   "cell_type": "code",
   "execution_count": 12,
   "id": "8b08d5f4-632d-42d2-9eed-495dca76710c",
   "metadata": {},
   "outputs": [
    {
     "data": {
      "text/plain": [
       "2"
      ]
     },
     "execution_count": 12,
     "metadata": {},
     "output_type": "execute_result"
    }
   ],
   "source": [
    "# Each iteration\n",
    "next(generator )"
   ]
  },
  {
   "cell_type": "markdown",
   "id": "9f6d802f-d19b-41df-92e4-dafa7524d089",
   "metadata": {},
   "source": [
    "#### Shallow vs deep copying"
   ]
  },
  {
   "cell_type": "code",
   "execution_count": 13,
   "id": "adf6102d-750e-4192-ba35-476cc4f9e7c1",
   "metadata": {},
   "outputs": [
    {
     "name": "stdout",
     "output_type": "stream",
     "text": [
      "Person(name='Peter', surname='Müller', adress='76135 Karlsruhe')\n",
      "Person(name='Andreas', surname='Müller', adress='76135 Karlsruhe')\n"
     ]
    }
   ],
   "source": [
    "import copy\n",
    "\n",
    "person_1 = Person(\"Peter\", \"Müller\", \"76135 Karlsruhe\")\n",
    "person_2 = copy.copy(person_1)\n",
    "person_2.name = \"Andreas\"\n",
    "\n",
    "print(person_1)\n",
    "print(person_2)"
   ]
  },
  {
   "cell_type": "markdown",
   "id": "d94c83bd-0692-45a3-b02e-320962b2574e",
   "metadata": {},
   "source": [
    "#### Itertools"
   ]
  },
  {
   "cell_type": "code",
   "execution_count": 14,
   "id": "155211c5-4557-4807-b5a5-adcb4dabc92f",
   "metadata": {},
   "outputs": [
    {
     "name": "stdout",
     "output_type": "stream",
     "text": [
      "True [1, 2]\n",
      "False [3, 4]\n"
     ]
    }
   ],
   "source": [
    "# product\n",
    "from itertools import product\n",
    "list_a = [1, 2]\n",
    "list_b = [3, 4]\n",
    "prod = product(list_a, list_b) # [(1, 3), (1, 4), (2, 3), (2, 4)]\n",
    "prod = product(list_a, list_b, repeat=2) # [(1, 3, 1, 3), (1, 3, 1, 4), (1, 3, 2, 3), (1, 3, 2, 4), (1, 4, 1, 3), ...\n",
    "\n",
    "# permutations\n",
    "from itertools import permutations\n",
    "list_a = [1, 2, 3]\n",
    "perm = permutations(list_a, 2) # [(1, 2), (1, 3), (2, 1), (2, 3), (3, 1), (3, 2)]\n",
    "\n",
    "# combinations\n",
    "from itertools import combinations, combinations_with_replacement\n",
    "list_a = [1, 2, 3, 4]\n",
    "comb = combinations(list_a, 2) # [(1, 2), (1, 3), (1, 4), (2, 3), (2, 4), (3, 4)]\n",
    "comb_wr = combinations_with_replacement(list_a, 2) # [(1, 1), (1, 2), (1, 3), (1, 4), (2, 2), (2, 3), (2, 4), (3, 3), (3, 4), (4, 4)]\n",
    "\n",
    "# accumulate\n",
    "from itertools import accumulate\n",
    "import operator\n",
    "list_a = [1, 2, 3, 4]\n",
    "acc = accumulate(list_a) # [1, 3, 6, 10]\n",
    "acc = accumulate(list_a, func=operator.mul) # [1, 2, 6, 24]\n",
    "#  print(list(acc))\n",
    "\n",
    "# groupby\n",
    "from itertools import groupby\n",
    "\n",
    "def smaller_than_3(x):\n",
    "    return x < 3\n",
    "\n",
    "list_a = [1, 2, 3, 4]\n",
    "group_obj = groupby(list_a, key=smaller_than_3)\n",
    "for key, value in group_obj:\n",
    "    print(key, list(value))\n"
   ]
  },
  {
   "cell_type": "markdown",
   "id": "97c4f0b7-31e7-4549-8652-66071a9eb7de",
   "metadata": {},
   "source": [
    "#### Data Structures"
   ]
  },
  {
   "cell_type": "code",
   "execution_count": 15,
   "id": "3fbfc996-d229-45d3-a6a5-881d29d511a1",
   "metadata": {},
   "outputs": [
    {
     "name": "stdout",
     "output_type": "stream",
     "text": [
      "[1, 3, 5, 'hello']\n",
      "Counter({'a': 4, 'b': 4, 'c': 4})\n",
      "[('a', 4)]\n"
     ]
    }
   ],
   "source": [
    "# List (Ordered, mutable, allow duplicates)\n",
    "lst = [1, 2, 3, 4, 5, 6, 'hello']\n",
    "lst[-1] # refers to the last item\n",
    "print(lst[::2]) # start:end:step_size\n",
    "lst_cpy = lst # refers to the same list, use list.copy() instead\n",
    "\n",
    "# List as Stacks -  LIFO\n",
    "stack = [3, 4, 5]\n",
    "stack.append(7)\n",
    "stack.pop() # 7\n",
    "\n",
    "# Tuple (Ordered, immutable, allow duplicates)\n",
    "tuple = (1, 2, 'world')\n",
    "\n",
    "# Set (Unordered, immutable, no duplicates)\n",
    "set = {1, 2, 3}\n",
    "\n",
    "# Dictionary (Unordered, mutable, unique key)\n",
    "dict = {'name': 'John', 'age': 25}\n",
    "\n",
    "# Lists as Queues - FIFO \n",
    "from collections import deque\n",
    "queue = deque([\"Eric\", \"John\", \"Michael\"])\n",
    "queue.append(\"Terry\")\n",
    "queue.popleft() # 'Eric'\n",
    "\n",
    "# Heap (default min-heap) - Useful when quick access to the element with the highest/lowest priority is needed.\n",
    "import heapq\n",
    "my_heap = [3, 1, 4, 1, 5, 9, 2]\n",
    "heapq.heapify(my_heap) # Convert a list to a heap (heapify)\n",
    "# heapq._heapify_max(listForTree) # convert to a maxheap\n",
    "heapq.heappush(my_heap, 0) # Add an element to the heap\n",
    "smallest = heapq.heappop(my_heap) # Pop and return the smallest element\n",
    "\n",
    "# Array\n",
    "from array import array\n",
    "my_array = array('i', [1, 2, 3])\n",
    "\n",
    "# Counter\n",
    "from collections import Counter\n",
    "str_test = \"aaaabbbbcccc\"\n",
    "counter = Counter(str_test)\n",
    "print(counter) # Counter({'a': 4, 'b': 4, 'c': 4})\n",
    "print(counter.most_common(1)) # [('a', 4)] get a list of tuples as output\n",
    "\n",
    "# namedtuple\n",
    "from collections import namedtuple\n",
    "Point = namedtuple('Point', 'x,y')\n",
    "pt = Point(1, -4) # Point(x=1, y=-4)\n",
    "\n"
   ]
  },
  {
   "cell_type": "markdown",
   "id": "61c5a1d0-f15b-4d52-abc6-96dcc5b89b18",
   "metadata": {},
   "source": [
    "#### Threading\n",
    "**\\+** All threads withing a process share the same memory  \n",
    "**\\+** Starting a thread is faster than strating a process  \n",
    "**\\+** Threads are lighter than processes  \n",
    "**\\+** Great for I/O-bound tasks  \n",
    "  \n",
    "**\\-** not interruptable/killable  \n",
    "**\\-** Race condition: When two computer program processes, or threads, attempt to access the same resource at the same time and cause unwanted behavior.  \n",
    "**\\-** Threading is limited by GIL: only one thread at a time  "
   ]
  },
  {
   "cell_type": "code",
   "execution_count": 16,
   "id": "ca8ac45c-049e-4dbe-8c99-b6f7ebe75d8d",
   "metadata": {},
   "outputs": [
    {
     "name": "stdout",
     "output_type": "stream",
     "text": [
      "Start value: 0\n",
      "End value: 5\n"
     ]
    }
   ],
   "source": [
    "import threading\n",
    "from threading import Thread, Lock\n",
    "import os\n",
    "import time\n",
    "\n",
    "# global variabel\n",
    "database_value = 0\n",
    "\n",
    "def increase_database(lock):\n",
    "    global database_value\n",
    "    # print(threading.get_native_id()) # .get_ident()\n",
    "\n",
    "    with lock:\n",
    "        # lock.acquire()\n",
    "        local_copy = database_value\n",
    "        local_copy += 1\n",
    "        time.sleep(0.1)\n",
    "        database_value = local_copy\n",
    "        # lock.release()\n",
    "\n",
    "threads = []\n",
    "num_threads = 5\n",
    "lock = Lock()\n",
    "\n",
    "print(\"Start value: \" + str(database_value))\n",
    "# create processes\n",
    "for i in range(num_threads):\n",
    "    t = Thread(target=increase_database, args=(lock,))  # .get_ident()\n",
    "    threads.append(t)\n",
    "\n",
    "# start\n",
    "for t in threads:\n",
    "    t.start()\n",
    "    \n",
    "# join: wait for completion\n",
    "for t in threads:\n",
    "    t.join()\n",
    "\n",
    "print(\"End value: \" + str(database_value))"
   ]
  },
  {
   "cell_type": "markdown",
   "id": "c7cfd47e-9567-4cd8-b051-0d0b7f937178",
   "metadata": {},
   "source": [
    "#### Multiprocessing\n",
    "**\\+** Takes advantage of multiple CPUs and cores  \n",
    "**\\+** Separate memory space (not shared between processes)  \n",
    "**\\+** Processes are interrupable/killable  \n",
    "**\\+** One GIL for each process\n",
    "\n",
    "**\\-** Heavyweight (more memory)  \n",
    "**\\-** IPC (inter-process communication) is more complicated  \n",
    "**\\-** Starting a process is slower than starting a thread  "
   ]
  },
  {
   "cell_type": "code",
   "execution_count": 17,
   "id": "f39bc7db-413d-4c61-999a-a5657bb5962f",
   "metadata": {},
   "outputs": [],
   "source": [
    "# The next program does not work in a cell you need to save it and run with python in a terminal\n",
    "from multiprocessing import Process \n",
    "import os\n",
    "import time\n",
    "\n",
    "def square_numbers():\n",
    "    for i in range(100):\n",
    "        i * i\n",
    "        time.sleep(0.1)\n",
    "\n",
    "processes = []\n",
    "num_processes = os.cpu_count()\n",
    "\n",
    "if __name__ == '__main__':\n",
    "    # create processes\n",
    "    for i in range(num_processes):\n",
    "        p = Process(target=square_numbers)\n",
    "        processes.append(p)\n",
    "    \n",
    "    # start\n",
    "    for p in processes:\n",
    "        p.start()\n",
    "        \n",
    "    # join\n",
    "    for p in processes:\n",
    "        p.join()"
   ]
  },
  {
   "cell_type": "code",
   "execution_count": null,
   "id": "46682905-4d58-43b5-be45-c29cac04a5bc",
   "metadata": {},
   "outputs": [],
   "source": []
  }
 ],
 "metadata": {
  "kernelspec": {
   "display_name": "Python 3 (ipykernel)",
   "language": "python",
   "name": "python3"
  },
  "language_info": {
   "codemirror_mode": {
    "name": "ipython",
    "version": 3
   },
   "file_extension": ".py",
   "mimetype": "text/x-python",
   "name": "python",
   "nbconvert_exporter": "python",
   "pygments_lexer": "ipython3",
   "version": "3.9.17"
  }
 },
 "nbformat": 4,
 "nbformat_minor": 5
}
